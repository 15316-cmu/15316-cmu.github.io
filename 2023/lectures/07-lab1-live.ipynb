{
 "cells": [
  {
   "cell_type": "code",
   "execution_count": 1,
   "id": "d9101d8e",
   "metadata": {},
   "outputs": [],
   "source": [
    "from z3 import *\n",
    "from __future__ import annotations\n",
    "from dataclasses import dataclass"
   ]
  },
  {
   "cell_type": "code",
   "execution_count": 2,
   "id": "aef3a7ff",
   "metadata": {},
   "outputs": [],
   "source": [
    "import sys\n",
    "# change the path below to match your setup\n",
    "sys.path.append('/home/mfredrik/316-livecode/lab1-2023/src')"
   ]
  },
  {
   "cell_type": "markdown",
   "id": "cc1e89a6",
   "metadata": {},
   "source": [
    "The following are useful imports from the starter code"
   ]
  },
  {
   "cell_type": "code",
   "execution_count": 3,
   "id": "6e3fc8e6",
   "metadata": {},
   "outputs": [],
   "source": [
    "from parser import parse, fmla_parse, term_parse\n",
    "from tinyscript_util import (\n",
    "    stringify,\n",
    "    term_enc,\n",
    "    fmla_enc\n",
    ")\n",
    "import tinyscript as tn"
   ]
  },
  {
   "cell_type": "markdown",
   "id": "3f610322",
   "metadata": {},
   "source": [
    "Here's a quick demonstration of the parser and pretty-printer. The program on display is one of the test cases, to give an idea of what they look like."
   ]
  },
  {
   "cell_type": "code",
   "execution_count": 4,
   "id": "95149e72",
   "metadata": {},
   "outputs": [
    {
     "name": "stdout",
     "output_type": "stream",
     "text": [
      "x := (x)+(y);\n",
      "y := (x)-(y);\n",
      "x := (x)-(y)\n"
     ]
    }
   ],
   "source": [
    "swap = \"x := x + y; y := x - y; x := x - y\"\n",
    "swap_alpha = parse(swap)\n",
    "print(stringify(swap_alpha))"
   ]
  },
  {
   "cell_type": "markdown",
   "id": "9723d28c",
   "metadata": {},
   "source": [
    "## Implementing the box axioms"
   ]
  },
  {
   "cell_type": "markdown",
   "id": "eae41d60",
   "metadata": {},
   "source": [
    "Below is our partial implementation of the box modality. The remaining cases are left as part of the lab."
   ]
  },
  {
   "cell_type": "code",
   "execution_count": 5,
   "id": "d71f7e92",
   "metadata": {},
   "outputs": [],
   "source": [
    "# Apply axioms of dynamic logic for [alpha] P\n",
    "def box(alpha : tn.Prog, P : z3.BoolRef) -> z3.BoolRef:\n",
    "\tmatch alpha:\n",
    "\t\tcase tn.Asgn(x, e):\n",
    "\t\t\treturn z3.substitute(P, [(term_enc(tn.Var(x)), term_enc(e))])\n",
    "\t\tcase tn.Seq(alpha1, alpha2):\n",
    "\t\t\treturn box(alpha1, box(alpha2, P))"
   ]
  },
  {
   "cell_type": "markdown",
   "id": "767d1d36",
   "metadata": {},
   "source": [
    "A basic sanity check: `[x := 1](x < 0)`\n",
    "\n",
    "We should get `1 < 0` (or something equivalent), which simplifies to `False`"
   ]
  },
  {
   "cell_type": "code",
   "execution_count": 6,
   "id": "16b71ced",
   "metadata": {},
   "outputs": [
    {
     "name": "stdout",
     "output_type": "stream",
     "text": [
      "Program: x := 1\n",
      "Verification condition: Not(0 <= 1)\n"
     ]
    }
   ],
   "source": [
    "alpha = tn.Asgn('x', tn.Const(1))\n",
    "post = tn.LtF(tn.Var('x'), tn.Const(0))\n",
    "pre = box(alpha, fmla_enc(post))\n",
    "print('Program:', stringify(alpha))\n",
    "print('Verification condition:', pre)"
   ]
  },
  {
   "cell_type": "code",
   "execution_count": 7,
   "id": "05cdf3d3",
   "metadata": {},
   "outputs": [
    {
     "data": {
      "text/html": [
       "x = a &and; y = b &rArr;\n",
       "x + y + -1&middot;(x + y + -1&middot;y) = b &and; x + y + -1&middot;y = a"
      ],
      "text/plain": [
       "Implies(And(x == a, y == b),\n",
       "        And(x + y + -1*(x + y + -1*y) == b,\n",
       "            x + y + -1*y == a))"
      ]
     },
     "execution_count": 7,
     "metadata": {},
     "output_type": "execute_result"
    }
   ],
   "source": [
    "pre = fmla_enc(fmla_parse(\"x == a && y == b\"))\n",
    "post = fmla_enc(fmla_parse(\"x == b && y == a\"))\n",
    "vc = z3.Implies(pre, box(swap_alpha, post))\n",
    "vc"
   ]
  },
  {
   "cell_type": "markdown",
   "id": "cd1f7d69",
   "metadata": {},
   "source": [
    "Now we can use Z3 to get an initial state that will lead to the postcondition being satisfied."
   ]
  },
  {
   "cell_type": "code",
   "execution_count": 8,
   "id": "24f8d9c6",
   "metadata": {},
   "outputs": [
    {
     "data": {
      "text/plain": [
       "State(variables={'x': 0, 'y': 1})"
      ]
     },
     "execution_count": 8,
     "metadata": {},
     "output_type": "execute_result"
    }
   ],
   "source": [
    "from tinyscript_util import state_from_z3_model\n",
    "\n",
    "s = z3.Solver()\n",
    "s.add(box(swap_alpha, fmla_enc(fmla_parse(\"x == 1 && y == 0\"))))\n",
    "s.check()\n",
    "state = state_from_z3_model(swap_alpha, s.model())\n",
    "state"
   ]
  },
  {
   "cell_type": "markdown",
   "id": "b6beca98",
   "metadata": {},
   "source": [
    "And we can run the interpreter on this state to check that the postcondition is satisfied."
   ]
  },
  {
   "cell_type": "code",
   "execution_count": 9,
   "id": "913972f6",
   "metadata": {},
   "outputs": [
    {
     "data": {
      "text/plain": [
       "(State(variables={'x': 1, 'y': 0}), <Status.Terminated: 1>, None)"
      ]
     },
     "execution_count": 9,
     "metadata": {},
     "output_type": "execute_result"
    }
   ],
   "source": [
    "from interpreter import exc\n",
    "\n",
    "exc(state, swap_alpha)"
   ]
  },
  {
   "cell_type": "markdown",
   "id": "c2534cf8",
   "metadata": {},
   "source": [
    "## A simple contract checker"
   ]
  },
  {
   "cell_type": "markdown",
   "id": "ada3e0fd",
   "metadata": {},
   "source": [
    "Using `box`, we can also implement a (very) simple contract verifier.\n",
    "The function below returns `True` if the program satisfies its contract, and if it doesn't, then it returns a counterexample input that will violate the contract.\n",
    "\n",
    "Note the way that it works: `z3` is a *satisfiability* solver, not a validity checker. We've already seen that these semantic notions are duals of eachother, so to check for the validity of `P -> [alpha] Q` using `z3`, we negate and check for satisfiability. This negated formula is called a *verification condition*. It is unsatisfiable iff the program follows its contract, and otherwise any satisfying assignments correspond to an initial state (i.e., set of inputs) that will lead the program to violate its contract.\n",
    "\n",
    "This type of verification is called *bounded model checking*."
   ]
  },
  {
   "cell_type": "code",
   "execution_count": 10,
   "id": "50ade479",
   "metadata": {},
   "outputs": [],
   "source": [
    "from symbolic import Result\n",
    "from tinyscript_util import (\n",
    "    check_sat,\n",
    "    state_from_z3_model\n",
    ")\n",
    "\n",
    "# verify contracts of the form P --> [alpha] Q\n",
    "def verify_contract(\n",
    "    alpha: tn.Program, \n",
    "    P: tn.Formula, Q: tn.Formula\n",
    ") -> tuple[Result, tn.State]:\n",
    "    weakest_pre = box(alpha, Q)\n",
    "    res, model = check_sat([Not(Implies(P, weakest_pre))])\n",
    "    if res == unsat:\n",
    "        return (Result.Satisfies, None)\n",
    "    elif res == sat:\n",
    "        state = state_from_z3_model(alpha, model)\n",
    "        return (Result.Violates, state)\n",
    "    else:\n",
    "        return (Result.Unknown, None)"
   ]
  },
  {
   "cell_type": "markdown",
   "id": "1b1bfe6c",
   "metadata": {},
   "source": [
    "And we can check the contract from earlier"
   ]
  },
  {
   "cell_type": "code",
   "execution_count": 11,
   "id": "36f5dfb4",
   "metadata": {},
   "outputs": [
    {
     "data": {
      "text/plain": [
       "(<Result.Satisfies: 1>, None)"
      ]
     },
     "execution_count": 11,
     "metadata": {},
     "output_type": "execute_result"
    }
   ],
   "source": [
    "verify_contract(swap_alpha, pre, post)"
   ]
  },
  {
   "cell_type": "markdown",
   "id": "53f8b724",
   "metadata": {},
   "source": [
    "If we give it a buggy program, it will return a counterexample input"
   ]
  },
  {
   "cell_type": "code",
   "execution_count": 12,
   "id": "ff6825f1",
   "metadata": {},
   "outputs": [
    {
     "data": {
      "text/plain": [
       "(<Result.Violates: 2>, State(variables={'x': 1, 'y': 0}))"
      ]
     },
     "execution_count": 12,
     "metadata": {},
     "output_type": "execute_result"
    }
   ],
   "source": [
    "buggy = \"x := x + y; y := x - y; x := x + y\"\n",
    "buggy_alpha = parse(buggy)\n",
    "status, state = verify_contract(buggy_alpha, pre, post)\n",
    "status, state"
   ]
  },
  {
   "cell_type": "markdown",
   "id": "950d2969",
   "metadata": {},
   "source": [
    "Running the interpreter on this input will show that the postcondition is violated"
   ]
  },
  {
   "cell_type": "code",
   "execution_count": 13,
   "id": "3b94f1f5",
   "metadata": {},
   "outputs": [
    {
     "data": {
      "text/plain": [
       "(State(variables={'x': 2, 'y': 1}), <Status.Terminated: 1>, None)"
      ]
     },
     "execution_count": 13,
     "metadata": {},
     "output_type": "execute_result"
    }
   ],
   "source": [
    "exc(state, buggy_alpha)"
   ]
  },
  {
   "cell_type": "markdown",
   "id": "d7f75ca2",
   "metadata": {},
   "source": [
    "## Checking Invariant Properties"
   ]
  },
  {
   "cell_type": "markdown",
   "id": "10deeb43",
   "metadata": {},
   "source": [
    "Below is a sample checker that follows the analysis workflow outlined in the lab handout. It targets invariant properties, which are characterized by a formula $P$ that must remain true at all times throughout a program's execution.\n",
    "\n",
    "$$\n",
    "\\Phi_P = \\{\\sigma : \\forall i. 0\\le i < |\\sigma| \\rightarrow \\sigma_i \\vDash P\\}\n",
    "$$\n",
    "\n",
    "In practice, the above definition is too strict, because programs have no control over their initial state. For example, consider the invariant property which says that `x`, `y`, and `z` should all remain non-negative. The following program begins by attempting to establish the invariant.\n",
    "```\n",
    "x := 0;\n",
    "y := 0;\n",
    "z := 0;\n",
    "...\n",
    "```\n",
    "However, it does not satisfy the invariant property, because it may begin in an initial state that maps `x`, `y`, and `z` to negative numbers, and isn't able to correct it until entering the fourth state of a trace. To address this, we will give the program a grace period in which it must establish the invariant. After it has done so, then the invariant must remain true for the remainder of the trace.\n",
    "\n",
    "$$\n",
    "\\Phi_P = \\{\\sigma : \\exists i. \\sigma_i \\vDash P \\land \\forall j. i \\le j < |\\sigma| \\rightarrow \\sigma_i \\vDash P\\}\n",
    "$$\n",
    "\n",
    "To enforce this property, we will add instrumentation to each instruction that could potentially either establish or violate the invariant. For the live coding exercise, we only consider assignment, composition, conditional, and while statements in our program. Among these, the only type of instruction that can affect the invariant is assignment. However, if we were considering the full tinyscript language, then we would need to think about whether `output` commands could be relevant, and how to deal with the effects of `abort`.\n",
    "\n",
    "The instrumentation that we add will track two policy variables, `#inv_established` and `#inv_true`. `#inv_established` is initialized by a conditional statement which checks whether the initial state satisfies `P`. After this initialization, none of the instrumentation will ever set `#inv_established` to 0, reflecting that having established the invariant cannot be undone.\n",
    "\n",
    "For each assignment instruction $\\alpha$, we will determine whether $[\\alpha]\\,P \\leftrightarrow P$. If so, then there is no need to add instrumentation. If not, then we must set the policy variables accordingly. The instrumentation constructs a box-free equivalent of $[\\alpha]\\,P$, and add a conditional statement that branches on this formula: the \"then\" branch handles the case where the invariant will be true after the instrumented instruction, and the \"else\" branch where it will be false.\n",
    "* In the \"then\" branch, if `#inv_established` is currently 0, then we want to set both policy variables to 1. Add the corresponding conditional statement to construct the body of this branch.\n",
    "* In the \"else\" branch, the instrumentation sets `#inv_true` to 0.\n",
    "\n",
    "As we will see below, there are a few optimizations for this approach that are easy to implement, but this instrumentation is sufficient to establish the desired correspondence. If $\\alpha'$ is the instrumented version of $\\alpha$, then:\n",
    "\n",
    "$$\n",
    "\\alpha~\\text{satisfies the invariant policy for formula}~P\n",
    "\\quad\\Longleftrightarrow\\quad\n",
    "\\vDash [\\alpha'](\\mathtt{\\#inv\\_established} = 1 \\land \\mathtt{\\#inv\\_true} = 1)\n",
    "$$\n",
    "\n",
    "Having this, `symbolic_check` is straightforward to implement"
   ]
  },
  {
   "cell_type": "markdown",
   "id": "b5dad142",
   "metadata": {},
   "source": [
    "### Implementation\n",
    "\n",
    "We will start by writing some utility functions. When we compute the box-free equivalent of $[\\alpha] P$ using `box`, the result will be a Z3 `BoolRef`. But to construct instrumentation, we need the corresponding formula as a `tn.Formula`. The utility `z3_to_fmla` below accomplishes this."
   ]
  },
  {
   "cell_type": "code",
   "execution_count": 14,
   "id": "51f938e0",
   "metadata": {},
   "outputs": [],
   "source": [
    "def z3_to_fmla(P: BoolRef):\n",
    "    \"\"\"\n",
    "    Convert a Z3 BoolRef to a tinyscript formula\n",
    "    \"\"\"\n",
    "    if is_int_value(P):\n",
    "        return tn.Const(P.as_long())\n",
    "    elif is_const(P) and not is_true(P) and not is_false(P):\n",
    "        return tn.Var(str(P))\n",
    "    elif is_add(P):\n",
    "        return tn.Sum(z3_to_fmla(P.children()[0]),\n",
    "                      z3_to_fmla(P.children()[1]))\n",
    "    elif is_sub(P):\n",
    "        return tn.Difference(z3_to_fmla(P.children()[0]),\n",
    "                             z3_to_fmla(P.children()[1]))\n",
    "    elif is_mul(P):\n",
    "        return tn.Product(z3_to_fmla(P.children()[0]),\n",
    "                          z3_to_fmla(P.children()[1]))\n",
    "    elif is_true(P):\n",
    "        return tn.TrueC()\n",
    "    elif is_false(P):\n",
    "        return tn.FalseC()\n",
    "    elif is_lt(P):\n",
    "        return tn.LtF(z3_to_fmla(P.children()[0]), \n",
    "                      z3_to_fmla(P.children()[1]))\n",
    "    elif is_le(P):\n",
    "        return tn.OrF(tn.LtF(z3_to_fmla(P.children()[0]),\n",
    "                             z3_to_fmla(P.children()[1])),\n",
    "                      tn.EqF(z3_to_fmla(P.children()[0]),\n",
    "                             z3_to_fmla(P.children()[1])))\n",
    "    elif is_gt(P):\n",
    "        return tn.NotF(tn.LtF(z3_to_fmla(P.children()[0]), \n",
    "                              z3_to_fmla(P.children()[1])))\n",
    "    elif is_eq(P):\n",
    "        return tn.EqF(z3_to_fmla(P.children()[0]), \n",
    "                      z3_to_fmla(P.children()[1]))\n",
    "    elif is_not(P):\n",
    "        return tn.NotF(z3_to_fmla(P.children()[0]))\n",
    "    elif is_and(P):\n",
    "        return tn.AndF(z3_to_fmla(P.children()[0]),\n",
    "                       z3_to_fmla(P.children()[1]))\n",
    "    elif is_or(P):\n",
    "        return tn.OrF(z3_to_fmla(P.children()[0]),\n",
    "                       z3_to_fmla(P.children()[1]))\n",
    "    elif is_implies(P):\n",
    "        return tn.ImpliesF(z3_to_fmla(P.children()[0]),\n",
    "                           z3_to_fmla(P.children()[1]))\n",
    "    else: \n",
    "        raise TypeError(\n",
    "            f\"Expected BoolRef, got {P}\"\n",
    "        )"
   ]
  },
  {
   "cell_type": "markdown",
   "id": "ce0d3211",
   "metadata": {},
   "source": [
    "We will also be checking formulas for equivalence when adding instrumentation. The utility `fmlas_equiv` does so."
   ]
  },
  {
   "cell_type": "code",
   "execution_count": 15,
   "id": "934d1532",
   "metadata": {},
   "outputs": [],
   "source": [
    "def fmlas_equiv(P: BoolRef, Q: BoolRef) -> bool:\n",
    "    \"\"\"\n",
    "    Test whether P and Q are equivalent, i.e., whether |= P <--> Q\n",
    "    \"\"\"\n",
    "    res, _ = check_sat([Not(P == Q)])\n",
    "    if res == sat or res == unknown:\n",
    "        # If unknown, we conservatively assume that the\n",
    "        # formulas are not equivalent. This will not break\n",
    "        # anything, but merely result in a potentially\n",
    "        # unnecessary instrumentation.\n",
    "        return False\n",
    "    else:\n",
    "        return True"
   ]
  },
  {
   "cell_type": "markdown",
   "id": "85cd3e89",
   "metadata": {},
   "source": [
    "We'll define globals for the policy variables, rather than hard-coding them throughout our implementation."
   ]
  },
  {
   "cell_type": "code",
   "execution_count": 16,
   "id": "085a9253",
   "metadata": {},
   "outputs": [],
   "source": [
    "SETUP_VAR = '#inv_established'\n",
    "INV_VAR = '#inv_true'"
   ]
  },
  {
   "cell_type": "markdown",
   "id": "8ed28c65",
   "metadata": {},
   "source": [
    "Now for the actual instrumentation. The function `invariant_instrument` constructs the instrumentation statements to place before each assignment. It takes a single `BoolRef` argument, which should be the box-free equivalent of $[\\alpha]\\,P$, where $\\alpha$ is the assignment being instrumented. It implements the approach described earlier, except with two optimizations.\n",
    "* If the argument `Q` is the constant `False`, then it means that the invariant will certainly be violated when the assignment is executed. In this case, the instrumentation just sets `#inv_true` to 0.\n",
    "* Similarly, if the argument `Q` is the constant `True`, then the invariant formula `P` will certainly be true after then assignment is executed. In this case, the instrumentation just sets the policy variables to 1 (if appropriate), and does not contain a conditional to test if `Q` is true."
   ]
  },
  {
   "cell_type": "code",
   "execution_count": 17,
   "id": "06b8a028",
   "metadata": {},
   "outputs": [],
   "source": [
    "def invariant_instrument(Q: BoolRef) -> tn.Prog:\n",
    "    \"\"\"\n",
    "    Construct instrumentation to enforce an invariant P,\n",
    "    to be placed immediately before an assignment alpha.\n",
    "    \n",
    "    Args:\n",
    "        Q (z3.BoolRef): A box-free formula that is equivalent\n",
    "            to [alpha] P.\n",
    "    \n",
    "    Returns:\n",
    "        tn.Prog: A tinyscript program that will set the\n",
    "            policy variables appropriately to enforce the\n",
    "            invariant P.\n",
    "    \"\"\"\n",
    "    true_ins = tn.If(tn.EqF(tn.Var(SETUP_VAR), tn.Const(0)),\n",
    "                     tn.Seq(tn.Asgn(INV_VAR, tn.Const(1)),\n",
    "                            tn.Asgn(SETUP_VAR, tn.Const(1))),\n",
    "                     tn.Skip())\n",
    "    false_ins = tn.Asgn(INV_VAR, tn.Const(0))\n",
    "    if is_true(Q):\n",
    "        return true_ins\n",
    "    elif is_false(Q):\n",
    "        return false_ins\n",
    "    else:\n",
    "        return tn.If(z3_to_fmla(Q),\n",
    "                     true_ins,\n",
    "                     false_ins)"
   ]
  },
  {
   "cell_type": "markdown",
   "id": "92d1c617",
   "metadata": {},
   "source": [
    "Putting this all together, we can write `add_instrumentation`, which recurses on the structure of a program to add policy-state maintenance instrumentation before each assignment."
   ]
  },
  {
   "cell_type": "code",
   "execution_count": 18,
   "id": "23988681",
   "metadata": {},
   "outputs": [],
   "source": [
    "def add_instrumentation(alpha: tn.Prog, inv: tn.Formula) -> tn.Prog:\n",
    "    \"\"\"\n",
    "    Construct instrumentation to enforce an invariant P,\n",
    "    to be placed immediately before an assignment alpha.\n",
    "    \n",
    "    Args:\n",
    "        alpha (tn.Prog): The program to instrument\n",
    "        inv (tn.Formula): The invariant formula to enforce\n",
    "    \n",
    "    Returns:\n",
    "        tn.Prog: A tinyscript program with instrumentation before each\n",
    "            assignment.\n",
    "            \n",
    "    Raises:\n",
    "        TypeError: The provided alpha is not a valid tinyscript program.\n",
    "    \"\"\"\n",
    "    match alpha:\n",
    "        # assignments can violate the invariant, so instrument them directly\n",
    "        case tn.Asgn(name, aexp):\n",
    "            pre = box(alpha, fmla_enc(inv))\n",
    "            # pre will be equivalent to inv if and only if the assignment\n",
    "            # has no effect on whether the invariant will be violated or\n",
    "            # established, so we don't add instrumentation if this is\n",
    "            # the case.\n",
    "            if not fmlas_equiv(fmla_enc(inv), pre):\n",
    "                ins = invariant_instrument(pre)\n",
    "                if ins != tn.Skip():\n",
    "                    return tn.Seq(ins, alpha)\n",
    "            return alpha\n",
    "        # composition cannot violate the invariant unless through either\n",
    "        # of its constituents, so recurse and do not add instrumentation directly\n",
    "        case tn.Seq(alpha_p, beta_p):\n",
    "            ins_alpha = add_instrumentation(alpha_p, inv)\n",
    "            ins_beta = add_instrumentation(beta_p, inv)\n",
    "            return tn.Seq(ins_alpha, ins_beta)\n",
    "        # same with conditionals\n",
    "        case tn.If(p, alpha_p, beta_p):\n",
    "            ins_alpha = add_instrumentation(alpha_p, inv)\n",
    "            ins_beta = add_instrumentation(beta_p, inv)\n",
    "            return tn.If(p, ins_alpha, ins_beta)\n",
    "        # same with while loops\n",
    "        case tn.While(q, alpha_p):\n",
    "            ins_alpha = add_instrumentation(alpha_p, inv)\n",
    "            return tn.While(q, ins_alpha)\n",
    "        # skips do nothing for invariants, so no instrumentation\n",
    "        case tn.Skip():\n",
    "            return alpha\n",
    "        case _:\n",
    "            raise TypeError(\n",
    "                f\"instrument got {type(alpha)} ({alpha}), not Prog\"\n",
    "            )\n",
    "\n",
    "def instrument(alpha: tn.Prog, invariant: tn.Formula) -> tn.Prog:\n",
    "    instr = add_instrumentation(alpha, invariant)\n",
    "    initialize = tn.If(invariant,\n",
    "                       tn.Seq(tn.Asgn(SETUP_VAR, tn.Const(1)),\n",
    "                              tn.Asgn(INV_VAR, tn.Const(1))),\n",
    "                       tn.Seq(tn.Asgn(SETUP_VAR, tn.Const(0)),\n",
    "                              tn.Asgn(INV_VAR, tn.Const(0))))\n",
    "    return tn.Seq(initialize, instr)"
   ]
  },
  {
   "cell_type": "markdown",
   "id": "130c0227",
   "metadata": {},
   "source": [
    "Let's test it out. Note that there isn't a great invariant for this program, so we'll just use `y < x`."
   ]
  },
  {
   "cell_type": "code",
   "execution_count": 19,
   "id": "480dd451",
   "metadata": {},
   "outputs": [
    {
     "name": "stdout",
     "output_type": "stream",
     "text": [
      "if ((y)<(x)) then\n",
      "    #inv_established := 1;\n",
      "    #inv_true := 1\n",
      "else\n",
      "    #inv_established := 0;\n",
      "    #inv_true := 0\n",
      "endif;\n",
      "if (!((((x)+(y))<(y))||(((x)+(y))==(y)))) then\n",
      "    if ((#inv_established)==(0)) then\n",
      "        #inv_true := 1;\n",
      "        #inv_established := 1\n",
      "    else\n",
      "        skip\n",
      "    endif\n",
      "else\n",
      "    #inv_true := 0\n",
      "endif;\n",
      "x := (x)+(y);\n",
      "if (!(((x)<((x)+((-1)*(y))))||((x)==((x)+((-1)*(y)))))) then\n",
      "    if ((#inv_established)==(0)) then\n",
      "        #inv_true := 1;\n",
      "        #inv_established := 1\n",
      "    else\n",
      "        skip\n",
      "    endif\n",
      "else\n",
      "    #inv_true := 0\n",
      "endif;\n",
      "y := (x)-(y);\n",
      "if (!((((x)+((-1)*(y)))<(y))||(((x)+((-1)*(y)))==(y)))) then\n",
      "    if ((#inv_established)==(0)) then\n",
      "        #inv_true := 1;\n",
      "        #inv_established := 1\n",
      "    else\n",
      "        skip\n",
      "    endif\n",
      "else\n",
      "    #inv_true := 0\n",
      "endif;\n",
      "x := (x)-(y)\n"
     ]
    }
   ],
   "source": [
    "inv = fmla_parse(\"y < x\")\n",
    "instrumented = instrument(swap_alpha, inv)\n",
    "print(stringify(instrumented))"
   ]
  },
  {
   "cell_type": "markdown",
   "id": "e21082ed",
   "metadata": {},
   "source": [
    "Now we implement `symbolic_check`. If the solver returns `sat`, then `symbolic_check` will attempt to generate an initial state that will lead the program to violate the invariant. If it sees that the invariant is violated in the final state (i.e., `#inv_true` is 0), then it returns `Result.Violates`. Otherwise it returns `Result.Unknown`."
   ]
  },
  {
   "cell_type": "code",
   "execution_count": 20,
   "id": "ee87bce2",
   "metadata": {},
   "outputs": [],
   "source": [
    "from interpreter import exc\n",
    "from symbolic import Result\n",
    "\n",
    "def symbolic_check(alpha: tn.Prog, P: tn.Formula, timeout=10) -> Result:\n",
    "    alpha_p = instrument(alpha, P)\n",
    "    post = tn.AndF(tn.EqF(tn.Var(SETUP_VAR), tn.Const(1)),\n",
    "                   tn.EqF(tn.Var(INV_VAR), tn.Const(1)))\n",
    "    weakest_pre = box(alpha, fmla_enc(post))\n",
    "    \n",
    "    res, model = check_sat([Not(weakest_pre)], timeout=timeout)\n",
    "    \n",
    "    if res == unsat:\n",
    "        return Result.Satisfies\n",
    "    elif res == sat:\n",
    "        state = state_from_z3_model(alpha, model, complete=True)\n",
    "        final_state = exc(state, alpha_p, max_steps=1.e6, quiet=False)\n",
    "        if final_state[0].variables[INV_VAR] == 0:\n",
    "            return Result.Violates\n",
    "    return Result.Unknown"
   ]
  },
  {
   "cell_type": "markdown",
   "id": "18ccee76",
   "metadata": {},
   "source": [
    "We see that the checker is able to find a counterexample. Most likely, corresponding to an initial state like `x = 0, y = 1`."
   ]
  },
  {
   "cell_type": "code",
   "execution_count": 21,
   "id": "ed69d2a9",
   "metadata": {
    "scrolled": true
   },
   "outputs": [
    {
     "data": {
      "text/plain": [
       "<Result.Violates: 2>"
      ]
     },
     "execution_count": 21,
     "metadata": {},
     "output_type": "execute_result"
    }
   ],
   "source": [
    "symbolic_check(swap_alpha, inv)"
   ]
  }
 ],
 "metadata": {
  "kernelspec": {
   "display_name": "Python 3 (ipykernel)",
   "language": "python",
   "name": "python3"
  },
  "language_info": {
   "codemirror_mode": {
    "name": "ipython",
    "version": 3
   },
   "file_extension": ".py",
   "mimetype": "text/x-python",
   "name": "python",
   "nbconvert_exporter": "python",
   "pygments_lexer": "ipython3",
   "version": "3.10.4"
  }
 },
 "nbformat": 4,
 "nbformat_minor": 5
}

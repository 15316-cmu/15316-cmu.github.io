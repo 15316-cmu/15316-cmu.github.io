{
 "cells": [
  {
   "cell_type": "markdown",
   "id": "56c32380",
   "metadata": {},
   "source": [
    "# Setup\n",
    "\n",
    "This notebook uses syntax that is not available in Python versions prior to 3.10. Follow the instructions below to set up an environment that will run this notebook.\n",
    "1. Create a new `conda` environment.\n",
    "```\n",
    "$ conda create -n py310 python=3.10\n",
    "```\n",
    "This may not work if you are using a version of `conda` prior to 4.11. If you do not have `conda`, or need to upgrade, you can [download the latest installer](https://docs.conda.io/en/latest/miniconda.html). If you already have a recent version on your system, but not Python 3.10, then you can run:\n",
    "```\n",
    "$ conda install -c conda-forge python=3.10\n",
    "```\n",
    "After installing Python 3.10 (or if you already have it), create a new environment as described above. You can use the environment by running:\n",
    "```\n",
    "$ conda activate py310\n",
    "```\n",
    "2. In the new environment, install the `z3-solver` package.\n",
    "```\n",
    "(py310)$ pip install z3-solver\n",
    "```\n",
    "3. Install Jupyter notebook.\n",
    "```\n",
    "(py310)$ pip install notebook\n",
    "```\n",
    "You can run this notebook by navigating to the directory that you downloaded it to in a command line, and running:\n",
    "```\n",
    "(py310)$ jupyter notebook\n",
    "```\n",
    "You can navigate to the URL printed by that command in your browser, and opening `316-z3-live.ipynb`.\n",
    "\n",
    "### A note for Windows users\n",
    "\n",
    "You should be able to follow the instructions above in either of Windows' native shells, `cmd.exe` and Powershell. However, the course staff has not recently tested this path; we will try to help you address issues that arise, but our ability to do so may be limited depending on your system configuration.\n",
    "\n",
    "There are two alternatives that you should consider using.\n",
    "1. If you are running Windows 10 version 2004 and higher (Build 19041 and higher) or Windows 11, then you can run all of these commands from the Windows Subsystem for Linux (WSL2). See [the documentation](https://learn.microsoft.com/en-us/windows/wsl/install) for setting this up. This notebook was developed in Windows using the Ubuntu distribution available in the [Windows App store](https://apps.microsoft.com/store/detail/ubuntu/9PDXGNCFSCZV), so if you are having trouble getting set up natively, then this is the most likely route to success.\n",
    "2. Use the Andrew linux cluster, where Python 3.10 is already installed as `python3`. You can install the `z3-python` and `notebook` packages with `pip`. To connect to a Jupyter notebook, set up an SSH tunnel when you connect to the cluster:\n",
    "```\n",
    "ssh -L 8888:127.0.0.1:8888 linux.andrew.cmu.edu\n",
    "```\n",
    "When you connect and run `jupyter notebook`, you can then paste the URL displayed by `jupyter` into your local browser."
   ]
  },
  {
   "cell_type": "code",
   "execution_count": 1,
   "id": "d9101d8e",
   "metadata": {},
   "outputs": [],
   "source": [
    "from z3 import *\n",
    "from __future__ import annotations\n",
    "from dataclasses import dataclass"
   ]
  },
  {
   "cell_type": "markdown",
   "id": "f712ceb8",
   "metadata": {},
   "source": [
    "# Syntactic Definitions\n",
    "\n",
    "Begin by defining the space of terms, formulas, and programs. The formula constructors are suffixed with `C` (for constants) and `F` (formulas) to avoid namespace collisions with Python with `z3`."
   ]
  },
  {
   "cell_type": "code",
   "execution_count": 2,
   "id": "bdf886d3",
   "metadata": {},
   "outputs": [],
   "source": [
    "@dataclass\n",
    "class Const:\n",
    "    value: int\n",
    "@dataclass\n",
    "class Var:\n",
    "    name: str\n",
    "@dataclass\n",
    "class Sum:\n",
    "    left: Term\n",
    "    right: Term\n",
    "@dataclass\n",
    "class Difference:\n",
    "    left: Term\n",
    "    right: Term\n",
    "\n",
    "Term = Const | Var | Sum | Difference"
   ]
  },
  {
   "cell_type": "code",
   "execution_count": 3,
   "id": "2aca77c8",
   "metadata": {},
   "outputs": [],
   "source": [
    "@dataclass\n",
    "class TrueC:\n",
    "    _: None\n",
    "@dataclass\n",
    "class FalseC:\n",
    "    _: None\n",
    "@dataclass\n",
    "class LtF:\n",
    "    left: Term\n",
    "    right: Term\n",
    "@dataclass\n",
    "class EqF:\n",
    "    left: Term\n",
    "    right: Term\n",
    "@dataclass\n",
    "class NotF:\n",
    "    q: Formula\n",
    "@dataclass\n",
    "class AndF:\n",
    "    p: Formula\n",
    "    q: Formula\n",
    "@dataclass\n",
    "class OrF:\n",
    "    p: Formula\n",
    "    q: Formula\n",
    "@dataclass\n",
    "class ImpliesF:\n",
    "    p: Formula\n",
    "    q: Formula\n",
    "\n",
    "Formula = TrueC | FalseC | LtF | EqF | NotF | AndF | OrF | ImpliesF"
   ]
  },
  {
   "cell_type": "code",
   "execution_count": 4,
   "id": "37f725fd",
   "metadata": {},
   "outputs": [],
   "source": [
    "@dataclass\n",
    "class Asgn:\n",
    "    left: Var\n",
    "    right: Term\n",
    "@dataclass\n",
    "class Assert:\n",
    "    q: Formula\n",
    "@dataclass\n",
    "class Seq:\n",
    "    alpha: Prog\n",
    "    beta: Prog\n",
    "@dataclass\n",
    "class If:\n",
    "    q: Formula\n",
    "    alpha: Prog\n",
    "    beta: Prog\n",
    "@dataclass\n",
    "class While:\n",
    "    q: Formula\n",
    "    alpha: Prog\n",
    "\n",
    "Prog = Asgn | Assert | Seq | If | While"
   ]
  },
  {
   "cell_type": "markdown",
   "id": "f1402104",
   "metadata": {},
   "source": [
    "The following utility functions encode terms and formulas built using the constructors above as Z3 terms and formulas."
   ]
  },
  {
   "cell_type": "code",
   "execution_count": 5,
   "id": "c266848f",
   "metadata": {},
   "outputs": [],
   "source": [
    "def term_enc(e: Term) -> IntNumRef:\n",
    "    match e:\n",
    "        case Const(value):\n",
    "            return IntVal(value)\n",
    "        case Var(name):\n",
    "            return Int(name)\n",
    "        case Sum(left, right):\n",
    "            return term_enc(left) + term_enc(right)\n",
    "        case Difference(left, right):\n",
    "            return term_enc(left) - term_enc(right)            \n",
    "        \n",
    "def fmla_enc(p: Formula) -> BoolRef:\n",
    "    match p:\n",
    "        case TrueC(_):\n",
    "            return BoolVal(True)\n",
    "        case FalseC(_):\n",
    "            return BoolVal(False)\n",
    "        case LtF(left, right):\n",
    "            return term_enc(left) < term_enc(right)\n",
    "        case EqF(left, right):\n",
    "            return term_enc(left) == term_enc(right)\n",
    "        case NotF(p):\n",
    "            return Not(fmla_enc(p))\n",
    "        case AndF(p, q):\n",
    "            return And(fmla_enc(p), fmla_enc(q))\n",
    "        case OrF(p, q):\n",
    "            return Or(fmla_enc(p), fmla_enc(q))\n",
    "        case ImpliesF(p, q):\n",
    "            return Implies(fmla_enc(p), fmla_enc(q))"
   ]
  },
  {
   "cell_type": "markdown",
   "id": "064b748f",
   "metadata": {},
   "source": [
    "The following helper provides a way to examine a program or formula object that is easier to interpret."
   ]
  },
  {
   "cell_type": "code",
   "execution_count": 6,
   "id": "64962d27",
   "metadata": {},
   "outputs": [],
   "source": [
    "def prettyprint(o: Term | Formula | Prog, indent: int=0) -> str:\n",
    "    ids = indent*' '\n",
    "    \n",
    "    if isinstance(o, Term):\n",
    "        match o:\n",
    "            case Const(value):\n",
    "                return '{}'.format(value)\n",
    "            case Var(name):\n",
    "                return '{}'.format(name)\n",
    "            case Sum(left, right):\n",
    "                return '{} + {}'.format(\n",
    "                    prettyprint(left),\n",
    "                    prettyprint(right))\n",
    "            case Difference(left, right):\n",
    "                return '{} - {}'.format(\n",
    "                    prettyprint(left),\n",
    "                    prettyprint(right))\n",
    "            \n",
    "    elif isinstance(o, Formula):\n",
    "        match o:\n",
    "            case TrueC(_):\n",
    "                return \"true\"\n",
    "            case FalseC(_):\n",
    "                return \"false\"\n",
    "            case LtF(left, right):\n",
    "                return '{} < {}'.format(\n",
    "                    prettyprint(left),\n",
    "                    prettyprint(right))\n",
    "            case EqF(left, right):\n",
    "                return '{} == {}'.format(\n",
    "                    prettyprint(left),\n",
    "                    prettyprint(right))\n",
    "            case NotF(p):\n",
    "                return 'not({})'.format(\n",
    "                    prettyprint(p))\n",
    "            case AndF(p, q):\n",
    "                return '{} && {}'.format(\n",
    "                    prettyprint(p),\n",
    "                    prettyprint(q))\n",
    "            case OrF(p, q):\n",
    "                return '({} || {})'.format(\n",
    "                    prettyprint(p),\n",
    "                    prettyprint(q))\n",
    "            case ImpliesF(p, q):\n",
    "                return '{} -> ({})'.format(\n",
    "                    prettyprint(p),\n",
    "                    prettyprint(q))\n",
    "        \n",
    "    elif isinstance(o, Prog):\n",
    "        match o:\n",
    "            case Asgn(left, right):\n",
    "                return '{}{} := {}'.format(ids,\n",
    "                                           prettyprint(left, indent=0), \n",
    "                                           prettyprint(right, indent=0))\n",
    "\n",
    "            case Assert(Q):\n",
    "                return '{}assert({})'.format(ids,\n",
    "                                             prettyprint(Q, indent=0))\n",
    "\n",
    "            case Seq(alpha, beta):\n",
    "                return '{};\\n{}'.format(prettyprint(alpha, indent=indent),\n",
    "                                        prettyprint(beta, indent=indent))\n",
    "\n",
    "            case If(Q, alpha, beta):\n",
    "                return '{}if({}) {{\\n{}{}\\n{}}} {{\\n{}{}\\n{}}}'.format(\n",
    "                    ids,\n",
    "                    prettyprint(Q, indent=0),\n",
    "                    ids,\n",
    "                    prettyprint(alpha, indent=indent+4),\n",
    "                    ids,\n",
    "                    ids,\n",
    "                    prettyprint(beta, indent=indent+4),\n",
    "                    ids)\n",
    "\n",
    "            case While(Q, alpha):\n",
    "                return '{}while({}) {{\\n{}\\n{}}}'.format(\n",
    "                    ids,\n",
    "                    prettyprint(Q, indent=0),\n",
    "                    prettyprint(alpha, indent=indent+4),\n",
    "                    ids)\n",
    "    else:\n",
    "        return str(o)"
   ]
  },
  {
   "cell_type": "markdown",
   "id": "3baaa418",
   "metadata": {},
   "source": [
    "The following example represents a Fibonacci generator as a `Prog`"
   ]
  },
  {
   "cell_type": "code",
   "execution_count": 7,
   "id": "7f051830",
   "metadata": {},
   "outputs": [
    {
     "name": "stdout",
     "output_type": "stream",
     "text": [
      "x := 0;\n",
      "y := 1;\n",
      "z := 1;\n",
      "i := 0;\n",
      "while(i < n) {\n",
      "    x := y;\n",
      "    y := z;\n",
      "    z := x + y;\n",
      "    i := i + 1\n",
      "}\n"
     ]
    }
   ],
   "source": [
    "fib_init = Seq(Asgn(Var('x'), Const(0)),\n",
    "               Seq(Asgn(Var('y'), Const(1)),\n",
    "                   Seq(Asgn(Var('z'), Const(1)),\n",
    "                       Asgn(Var('i'), Const(0)))))\n",
    "fib_loop = While(LtF(Var('i'), Var('n')),\n",
    "                 Seq(Asgn(Var('x'), Var('y')),\n",
    "                     Seq(Asgn(Var('y'), Var('z')),\n",
    "                         Seq(Asgn(Var('z'), Sum(Var('x'), Var('y'))),\n",
    "                             Asgn(Var('i'), Sum(Var('i'), Const(1)))))))\n",
    "fib = Seq(fib_init, fib_loop)\n",
    "print(prettyprint(fib))"
   ]
  },
  {
   "cell_type": "markdown",
   "id": "eae41d60",
   "metadata": {},
   "source": [
    "Below is our implementation of the box modality. This is refined a bit from what we did live at the end of lecture.\n",
    "* Formulas are simplified aggressively at each step\n",
    "* We use a slightly less complicated version of the axiom for loops"
   ]
  },
  {
   "cell_type": "code",
   "execution_count": 8,
   "id": "d71f7e92",
   "metadata": {},
   "outputs": [],
   "source": [
    "# Apply axioms of dynamic logic for [alpha] P\n",
    "def box(alpha: Prog, P: BoolRef, max_depth: int=10) -> BoolRef:\n",
    "    \n",
    "    if max_depth < 1:\n",
    "        return BoolVal(False)\n",
    "    \n",
    "    match alpha:\n",
    "        # [x := e] P(x) <--> P(e)\n",
    "        case Asgn(left, right):\n",
    "            return simplify(substitute(P, [(term_enc(left), term_enc(right))]))\n",
    "        \n",
    "        # [assert(Q)] P <--> P ^ Q\n",
    "        case Assert(Q):\n",
    "            return simplify(And(fmla_enc(Q), P))\n",
    "            \n",
    "        # [alpha; beta] P <--> [alpha]([beta] P)\n",
    "        case Seq(alpha_p, beta_p):\n",
    "            return simplify(box(alpha_p, \n",
    "                                box(beta_p, P, max_depth), \n",
    "                                max_depth))\n",
    "            \n",
    "        # [If(Q) alpha else beta] P <--> (Q -> [alpha] P) ^ (~Q -> [beta] P)\n",
    "        case If(Q, alpha_p, beta_p):\n",
    "            return simplify(And(Implies(fmla_enc(Q), box(alpha_p, P, max_depth)),\n",
    "                                Implies(fmla_enc(NotF(Q)), box(beta_p, P, max_depth))))\n",
    "            \n",
    "        # [while(Q) alpha] P <--> (Q -> [alpha; while(Q) alpha] P) ^ (~Q -> P)\n",
    "        # Note that this is equivalent to:\n",
    "        # [while(Q) alpha] P <--> [if(Q) { alpha; while(Q) alpha } else { assert(True) }] P\n",
    "        case While(Q, alpha_p):\n",
    "            return simplify(box(If(Q, \n",
    "                                   Seq(alpha_p, alpha),\n",
    "                                   Assert(TrueC(None))), \n",
    "                                P, max_depth-1))"
   ]
  },
  {
   "cell_type": "markdown",
   "id": "767d1d36",
   "metadata": {},
   "source": [
    "A basic sanity check: `[x := 1](x < 0)`\n",
    "\n",
    "We should get `1 < 0`, which simplifies to `False`"
   ]
  },
  {
   "cell_type": "code",
   "execution_count": 9,
   "id": "16b71ced",
   "metadata": {},
   "outputs": [
    {
     "name": "stdout",
     "output_type": "stream",
     "text": [
      "Program: x := 1\n",
      "Postcondition: x < 0\n",
      "Verification condition: False\n"
     ]
    }
   ],
   "source": [
    "alpha = Asgn(Var('x'), Const(1))\n",
    "post = LtF(Var('x'), Const(0))\n",
    "pre = box(alpha, fmla_enc(post))\n",
    "print('Program:', prettyprint(alpha))\n",
    "print('Postcondition:', prettyprint(post))\n",
    "print('Verification condition:', pre)"
   ]
  },
  {
   "cell_type": "markdown",
   "id": "92866281",
   "metadata": {},
   "source": [
    "A slightly more interesting example: is 88 a Fibonacci number? If so, then the formula generated by `box` for the postcondition `x = 88` should be satisfiable.\n",
    "\n",
    "We see that it is not, because the formula is unsatisfiable, which means that there are no inputs (i.e., assignments to `n`) that result in `x = 88` in the final state."
   ]
  },
  {
   "cell_type": "code",
   "execution_count": 10,
   "id": "8af1cc3e",
   "metadata": {},
   "outputs": [
    {
     "data": {
      "text/html": [
       "<b>unsat</b>"
      ],
      "text/plain": [
       "unsat"
      ]
     },
     "execution_count": 10,
     "metadata": {},
     "output_type": "execute_result"
    }
   ],
   "source": [
    "P = fmla_enc(EqF(Var('x'), Const(88)))\n",
    "vc = box(fib, P, 100)\n",
    "s = Solver()\n",
    "s.add(vc)\n",
    "s.check()"
   ]
  },
  {
   "cell_type": "markdown",
   "id": "31e623bb",
   "metadata": {},
   "source": [
    "By the same token, we can test valid Fibonacci numbers for their index: `box` essentially runs the Fibonacci program in reverse to find the initial states that yield the final states described in the postcondition."
   ]
  },
  {
   "cell_type": "code",
   "execution_count": 11,
   "id": "48f25f64",
   "metadata": {},
   "outputs": [
    {
     "data": {
      "text/html": [
       "<b>sat</b>"
      ],
      "text/plain": [
       "sat"
      ]
     },
     "execution_count": 11,
     "metadata": {},
     "output_type": "execute_result"
    }
   ],
   "source": [
    "P = fmla_enc(EqF(Var('x'), Const(89)))\n",
    "vc = box(fib, P, 100)\n",
    "s = Solver()\n",
    "s.add(vc)\n",
    "s.check()"
   ]
  },
  {
   "cell_type": "markdown",
   "id": "f086e9e5",
   "metadata": {},
   "source": [
    "We can see what satisfying assignment the solver found."
   ]
  },
  {
   "cell_type": "code",
   "execution_count": 12,
   "id": "05cdf3d3",
   "metadata": {},
   "outputs": [
    {
     "data": {
      "text/html": [
       "[n = 11]"
      ],
      "text/plain": [
       "[n = 11]"
      ]
     },
     "execution_count": 12,
     "metadata": {},
     "output_type": "execute_result"
    }
   ],
   "source": [
    "s.model()"
   ]
  },
  {
   "cell_type": "markdown",
   "id": "ada3e0fd",
   "metadata": {},
   "source": [
    "Using `box`, we can also implement a (very) simple contract verifier.\n",
    "The function below returns `True` if the program satisfies its contract, and if it doesn't, then it returns a counterexample input that will violate the contract.\n",
    "\n",
    "Note the way that it works: `z3` is a *satisfiability* solver, not a validity checker. We've already seen that these semantic notions are duals of eachother, so to check for the validity of `P -> [alpha] Q` using `z3`, we negate and check for satisfiability. This negated formula is called a *verification condition*. It is unsatisfiable iff the program follows its contract, and otherwise any satisfying assignments correspond to an initial state (i.e., set of inputs) that will lead the program to violate its contract.\n",
    "\n",
    "This type of verification is called *bounded model checking*."
   ]
  },
  {
   "cell_type": "code",
   "execution_count": 13,
   "id": "50ade479",
   "metadata": {},
   "outputs": [],
   "source": [
    "def verify_contract(alpha: Prog, P: Formula, Q: formula, max_depth=10):\n",
    "    vc = Not(Implies(fmla_enc(P), \n",
    "                     box(alpha, fmla_enc(Q), max_depth=max_depth)))\n",
    "    s = Solver()\n",
    "    s.add(vc)\n",
    "    if s.check() == unsat:\n",
    "        return True\n",
    "    else:\n",
    "        return s.model()"
   ]
  },
  {
   "cell_type": "markdown",
   "id": "1b1bfe6c",
   "metadata": {},
   "source": [
    "The precondition below encodes that we should find the fourth Fibonacci number (0-based), and the postcondition asserts that the result should be 1. This is incorrect, as the result should be 2. The verifier should give us a counterexample."
   ]
  },
  {
   "cell_type": "code",
   "execution_count": 14,
   "id": "36f5dfb4",
   "metadata": {},
   "outputs": [
    {
     "data": {
      "text/html": [
       "[n = 3]"
      ],
      "text/plain": [
       "[n = 3]"
      ]
     },
     "execution_count": 14,
     "metadata": {},
     "output_type": "execute_result"
    }
   ],
   "source": [
    "pre = EqF(Var('n'), Const(3))\n",
    "post = EqF(Var('x'), Const(1))\n",
    "verify_contract(fib, pre, post)"
   ]
  },
  {
   "cell_type": "markdown",
   "id": "42d2b1c6",
   "metadata": {},
   "source": [
    "Correcting the mistake, we see that the verifier behaves as expected."
   ]
  },
  {
   "cell_type": "code",
   "execution_count": 15,
   "id": "cb136cac",
   "metadata": {},
   "outputs": [
    {
     "data": {
      "text/plain": [
       "True"
      ]
     },
     "execution_count": 15,
     "metadata": {},
     "output_type": "execute_result"
    }
   ],
   "source": [
    "pre = EqF(Var('n'), Const(2))\n",
    "post = EqF(Var('x'), Const(1))\n",
    "verify_contract(fib, pre, post)"
   ]
  },
  {
   "cell_type": "code",
   "execution_count": null,
   "id": "23988681",
   "metadata": {},
   "outputs": [],
   "source": []
  }
 ],
 "metadata": {
  "kernelspec": {
   "display_name": "Python 3 (ipykernel)",
   "language": "python",
   "name": "python3"
  },
  "language_info": {
   "codemirror_mode": {
    "name": "ipython",
    "version": 3
   },
   "file_extension": ".py",
   "mimetype": "text/x-python",
   "name": "python",
   "nbconvert_exporter": "python",
   "pygments_lexer": "ipython3",
   "version": "3.10.7"
  }
 },
 "nbformat": 4,
 "nbformat_minor": 5
}

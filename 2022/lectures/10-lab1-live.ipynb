{
 "cells": [
  {
   "cell_type": "code",
   "execution_count": 1,
   "id": "d9101d8e",
   "metadata": {},
   "outputs": [],
   "source": [
    "from z3 import *\n",
    "from __future__ import annotations\n",
    "from dataclasses import dataclass"
   ]
  },
  {
   "cell_type": "code",
   "execution_count": 2,
   "id": "aef3a7ff",
   "metadata": {},
   "outputs": [],
   "source": [
    "import sys\n",
    "sys.path.append('src')"
   ]
  },
  {
   "cell_type": "markdown",
   "id": "efb8b3bf",
   "metadata": {},
   "source": [
    "Picking up from previously, we are going to use the definitions included with the lab starter code this time."
   ]
  },
  {
   "cell_type": "code",
   "execution_count": 3,
   "id": "6e3fc8e6",
   "metadata": {},
   "outputs": [],
   "source": [
    "from parser import parse\n",
    "from tinyscript_util import (\n",
    "    stringify,\n",
    "    term_enc,\n",
    "    fmla_enc\n",
    ")\n",
    "import tinyscript as tn"
   ]
  },
  {
   "cell_type": "markdown",
   "id": "3f610322",
   "metadata": {},
   "source": [
    "Here's a quick demonstration of the parser and pretty-printer. The program on display is one of the test cases, to give an idea of what they look like."
   ]
  },
  {
   "cell_type": "code",
   "execution_count": 4,
   "id": "95149e72",
   "metadata": {},
   "outputs": [],
   "source": [
    "with open('tests/test000.tinyscript', 'r') as f:\n",
    "    prog = parse(f.read())"
   ]
  },
  {
   "cell_type": "code",
   "execution_count": 5,
   "id": "4c6805ea",
   "metadata": {},
   "outputs": [
    {
     "name": "stdout",
     "output_type": "stream",
     "text": [
      "f := -93;\n",
      "c := 7;\n",
      "b := 14;\n",
      "e := 59;\n",
      "i := -52;\n",
      "a := 22;\n",
      "j := -55;\n",
      "if (((-188)*(sec_4))==((134)+(g))) then\n",
      "    if (((sec_1)+(120))<((149)+(-89))) then\n",
      "        while (((58)*(-155))==(-238)) do\n",
      "            c := sec_3\n",
      "        done\n",
      "    else\n",
      "        if ((i)<((f)-(175))) then\n",
      "            output (-248)*(200)\n",
      "        else\n",
      "            output b\n",
      "        endif\n",
      "    endif\n",
      "else\n",
      "    output ((-194)*(f))-((e)-(c));\n",
      "    a := ((-232)*(-28))-((d)*(a));\n",
      "    if ((sec_2)<(i)) then\n",
      "        g := (g)*(b)\n",
      "    else\n",
      "        output ((127)-(-66))+((-92)*(c))\n",
      "    endif\n",
      "endif\n"
     ]
    }
   ],
   "source": [
    "print(stringify(prog))"
   ]
  },
  {
   "cell_type": "markdown",
   "id": "3baaa418",
   "metadata": {},
   "source": [
    "Let's use a more familiar example program to demonstrate today's material. Below is an imperative fibonacci calculator."
   ]
  },
  {
   "cell_type": "code",
   "execution_count": 6,
   "id": "7f051830",
   "metadata": {},
   "outputs": [],
   "source": [
    "fib = parse((\n",
    "\"\"\"\n",
    "x := 0;\n",
    "y := 1;\n",
    "z := 1;\n",
    "i := 0;\n",
    "while ((i)<(n)) do\n",
    "    x := y;\n",
    "    y := z;\n",
    "    z := (x)+(y);\n",
    "    i := (i)+(1)\n",
    "done\n",
    "\"\"\"))"
   ]
  },
  {
   "cell_type": "markdown",
   "id": "9723d28c",
   "metadata": {},
   "source": [
    "## Implementing the box axioms"
   ]
  },
  {
   "cell_type": "markdown",
   "id": "eae41d60",
   "metadata": {},
   "source": [
    "Below is our implementation of the box modality. This is refined a bit from what we did live at the end of lecture.\n",
    "* Formulas are simplified aggressively at each step\n",
    "* We use a slightly less complicated version of the axiom for loops"
   ]
  },
  {
   "cell_type": "code",
   "execution_count": 7,
   "id": "d71f7e92",
   "metadata": {},
   "outputs": [],
   "source": [
    "# Apply axioms of dynamic logic for [alpha] P\n",
    "def box(alpha: tn.Prog, P: BoolRef, max_depth: int=10, depth_exceed_strict=True) -> BoolRef:\n",
    "    \n",
    "    if max_depth < 1:\n",
    "        return z3.BoolVal(False) if depth_exceed_strict else z3.BoolVal(True)\n",
    "    \n",
    "    match alpha:\n",
    "        \n",
    "        case tn.Skip():\n",
    "            return P\n",
    "        \n",
    "        # [x := e] P(x) <--> P(e)\n",
    "        case tn.Asgn(left, right):\n",
    "            return simplify(substitute(P, [(term_enc(tn.Var(left)), term_enc(right))]))\n",
    "            \n",
    "        # [alpha; beta] P <--> [alpha]([beta] P)\n",
    "        case tn.Seq(alpha_p, beta_p):\n",
    "            return simplify(box(alpha_p, \n",
    "                                box(beta_p, P, max_depth), \n",
    "                                max_depth))\n",
    "            \n",
    "        # [If(Q) alpha else beta] P <--> (Q -> [alpha] P) ^ (~Q -> [beta] P)\n",
    "        case tn.If(Q, alpha_p, beta_p):\n",
    "            return simplify(And(Implies(fmla_enc(Q), box(alpha_p, P, max_depth)),\n",
    "                                Implies(fmla_enc(tn.NotF(Q)), box(beta_p, P, max_depth))))\n",
    "            \n",
    "        # [while(Q) alpha] P <--> (Q -> [alpha; while(Q) alpha] P) ^ (~Q -> P)\n",
    "        # Note that this is equivalent to:\n",
    "        # [while(Q) alpha] P <--> [if(Q) { alpha; while(Q) alpha } else { assert(True) }] P\n",
    "        case tn.While(Q, alpha_p):\n",
    "            return simplify(box(tn.If(Q, \n",
    "                                   tn.Seq(alpha_p, alpha),\n",
    "                                   tn.Asgn('x', tn.Var('x'))), \n",
    "                                P, max_depth-1))"
   ]
  },
  {
   "cell_type": "markdown",
   "id": "767d1d36",
   "metadata": {},
   "source": [
    "A basic sanity check: `[x := 1](x < 0)`\n",
    "\n",
    "We should get `1 < 0`, which simplifies to `False`"
   ]
  },
  {
   "cell_type": "code",
   "execution_count": 8,
   "id": "16b71ced",
   "metadata": {},
   "outputs": [
    {
     "name": "stdout",
     "output_type": "stream",
     "text": [
      "Program: x := 1\n",
      "Verification condition: False\n"
     ]
    }
   ],
   "source": [
    "alpha = tn.Asgn('x', tn.Const(1))\n",
    "post = tn.LtF(tn.Var('x'), tn.Const(0))\n",
    "pre = box(alpha, fmla_enc(post))\n",
    "print('Program:', stringify(alpha))\n",
    "print('Verification condition:', pre)"
   ]
  },
  {
   "cell_type": "markdown",
   "id": "92866281",
   "metadata": {},
   "source": [
    "A slightly more interesting example: is 88 a Fibonacci number? If so, then the formula generated by `box` for the postcondition `x = 88` should be satisfiable.\n",
    "\n",
    "We see that it is not, because the formula is unsatisfiable, which means that there are no inputs (i.e., assignments to `n`) that result in `x = 88` in the final state."
   ]
  },
  {
   "cell_type": "code",
   "execution_count": 9,
   "id": "8af1cc3e",
   "metadata": {
    "scrolled": false
   },
   "outputs": [
    {
     "data": {
      "text/html": [
       "<b>unsat</b>"
      ],
      "text/plain": [
       "unsat"
      ]
     },
     "execution_count": 9,
     "metadata": {},
     "output_type": "execute_result"
    }
   ],
   "source": [
    "P = fmla_enc(tn.EqF(tn.Var('x'), tn.Const(88)))\n",
    "vc = box(fib, P, 100)\n",
    "s = Solver()\n",
    "s.add(vc)\n",
    "s.check()"
   ]
  },
  {
   "cell_type": "markdown",
   "id": "31e623bb",
   "metadata": {},
   "source": [
    "By the same token, we can test valid Fibonacci numbers for their index: `box` essentially runs the Fibonacci program in reverse to find the initial states that yield the final states described in the postcondition."
   ]
  },
  {
   "cell_type": "code",
   "execution_count": 10,
   "id": "48f25f64",
   "metadata": {},
   "outputs": [
    {
     "data": {
      "text/html": [
       "<b>sat</b>"
      ],
      "text/plain": [
       "sat"
      ]
     },
     "execution_count": 10,
     "metadata": {},
     "output_type": "execute_result"
    }
   ],
   "source": [
    "P = fmla_enc(tn.EqF(tn.Var('x'), tn.Const(89)))\n",
    "vc = box(fib, P, 100)\n",
    "s = Solver()\n",
    "s.add(vc)\n",
    "s.check()"
   ]
  },
  {
   "cell_type": "markdown",
   "id": "f086e9e5",
   "metadata": {},
   "source": [
    "We can see what satisfying assignment the solver found."
   ]
  },
  {
   "cell_type": "code",
   "execution_count": 11,
   "id": "05cdf3d3",
   "metadata": {},
   "outputs": [
    {
     "data": {
      "text/html": [
       "[n = 11]"
      ],
      "text/plain": [
       "[n = 11]"
      ]
     },
     "execution_count": 11,
     "metadata": {},
     "output_type": "execute_result"
    }
   ],
   "source": [
    "s.model()"
   ]
  },
  {
   "cell_type": "markdown",
   "id": "c2534cf8",
   "metadata": {},
   "source": [
    "## A simple contract checker"
   ]
  },
  {
   "cell_type": "markdown",
   "id": "ada3e0fd",
   "metadata": {},
   "source": [
    "Using `box`, we can also implement a (very) simple contract verifier.\n",
    "The function below returns `True` if the program satisfies its contract, and if it doesn't, then it returns a counterexample input that will violate the contract.\n",
    "\n",
    "Note the way that it works: `z3` is a *satisfiability* solver, not a validity checker. We've already seen that these semantic notions are duals of eachother, so to check for the validity of `P -> [alpha] Q` using `z3`, we negate and check for satisfiability. This negated formula is called a *verification condition*. It is unsatisfiable iff the program follows its contract, and otherwise any satisfying assignments correspond to an initial state (i.e., set of inputs) that will lead the program to violate its contract.\n",
    "\n",
    "This type of verification is called *bounded model checking*."
   ]
  },
  {
   "cell_type": "code",
   "execution_count": 12,
   "id": "50ade479",
   "metadata": {},
   "outputs": [],
   "source": [
    "from symbolic import Result\n",
    "from tinyscript_util import (\n",
    "    check_sat,\n",
    "    state_from_z3_model\n",
    ")\n",
    "\n",
    "# verify contracts of the form P --> [alpha] Q\n",
    "def verify_contract(\n",
    "    alpha: tn.Program, \n",
    "    P: tn.Formula, Q: tn.Formula, \n",
    "    max_depth: int=10\n",
    ") -> tuple[Result, tn.State]:\n",
    "    weakest_pre = box(alpha, fmla_enc(Q), max_depth=max_depth)\n",
    "    res, model = check_sat([Not(Implies(fmla_enc(P), weakest_pre))])\n",
    "    if res == unsat:\n",
    "        return (Result.Satisfies, None)\n",
    "    elif res == sat:\n",
    "        state = state_from_z3_model(alpha, model)\n",
    "        return (Result.Violates, state)\n",
    "    else:\n",
    "        return (Result.Unknown, None)"
   ]
  },
  {
   "cell_type": "markdown",
   "id": "1b1bfe6c",
   "metadata": {},
   "source": [
    "The precondition below encodes that we should find the fourth Fibonacci number (0-based), and the postcondition asserts that the result should be 1. This is incorrect, as the result should be 2. The verifier should give us a counterexample."
   ]
  },
  {
   "cell_type": "code",
   "execution_count": 13,
   "id": "36f5dfb4",
   "metadata": {},
   "outputs": [
    {
     "data": {
      "text/plain": [
       "(<Result.Violates: 2>,\n",
       " State(variables={'x': 0, 'y': 0, 'z': 0, 'i': 0, 'n': 3}))"
      ]
     },
     "execution_count": 13,
     "metadata": {},
     "output_type": "execute_result"
    }
   ],
   "source": [
    "pre = tn.EqF(tn.Var('n'), tn.Const(3))\n",
    "post = tn.EqF(tn.Var('x'), tn.Const(1))\n",
    "verify_contract(fib, pre, post)"
   ]
  },
  {
   "cell_type": "markdown",
   "id": "42d2b1c6",
   "metadata": {},
   "source": [
    "Correcting the mistake, we see that the verifier behaves as expected."
   ]
  },
  {
   "cell_type": "code",
   "execution_count": 14,
   "id": "cb136cac",
   "metadata": {},
   "outputs": [
    {
     "data": {
      "text/plain": [
       "(<Result.Satisfies: 1>, None)"
      ]
     },
     "execution_count": 14,
     "metadata": {},
     "output_type": "execute_result"
    }
   ],
   "source": [
    "pre = tn.EqF(tn.Var('n'), tn.Const(2))\n",
    "post = tn.EqF(tn.Var('x'), tn.Const(1))\n",
    "verify_contract(fib, pre, post)"
   ]
  },
  {
   "cell_type": "markdown",
   "id": "d7f75ca2",
   "metadata": {},
   "source": [
    "## Checking Invariant Properties"
   ]
  },
  {
   "cell_type": "markdown",
   "id": "10deeb43",
   "metadata": {},
   "source": [
    "Below is a sample checker that follows the analysis workflow outlined in the lab handout. It targets invariant properties, which are characterized by a formula $P$ that must remain true at all times throughout a program's execution.\n",
    "\n",
    "$$\n",
    "\\Phi_P = \\{\\sigma : \\forall i. 0\\le i < |\\sigma| \\rightarrow \\sigma_i \\vDash P\\}\n",
    "$$\n",
    "\n",
    "In practice, the above definition is too strict, because programs have no control over their initial state. For example, consider the invariant property which says that `x`, `y`, and `z` should all remain non-negative. The following program begins by attempting to establish the invariant.\n",
    "```\n",
    "x := 0;\n",
    "y := 0;\n",
    "z := 0;\n",
    "...\n",
    "```\n",
    "However, it does not satisfy the invariant property, because it may begin in an initial state that maps `x`, `y`, and `z` to negative numbers, and isn't able to correct it until entering the fourth state of a trace. To address this, we will give the program a grace period in which it must establish the invariant. After it has done so, then the invariant must remain true for the remainder of the trace.\n",
    "\n",
    "$$\n",
    "\\Phi_P = \\{\\sigma : \\exists i. \\sigma_i \\vDash P \\land \\forall j. i \\le j < |\\sigma| \\rightarrow \\sigma_i \\vDash P\\}\n",
    "$$\n",
    "\n",
    "To enforce this property, we will add instrumentation to each instruction that could potentially either establish or violate the invariant. For the live coding exercise, we only consider assignment, composition, conditional, and while statements in our program. Among these, the only type of instruction that can affect the invariant is assignment. However, if we were considering the full tinyscript language, then we would need to think about whether `output` commands could be relevant, and how to deal with the effects of `abort`.\n",
    "\n",
    "The instrumentation that we add will track two policy variables, `#inv_established` and `#inv_true`. `#inv_established` is initialized by a conditional statement which checks whether the initial state satisfies `P`. After this initialization, none of the instrumentation will ever set `#inv_established` to 0, reflecting that having established the invariant cannot be undone.\n",
    "\n",
    "For each assignment instruction $\\alpha$, we will determine whether $[\\alpha]\\,P \\leftrightarrow P$. If so, then there is no need to add instrumentation. If not, then we must set the policy variables accordingly. The instrumentation constructs a box-free equivalent of $[\\alpha]\\,P$, and add a conditional statement that branches on this formula: the \"then\" branch handles the case where the invariant will be true after the instrumented instruction, and the \"else\" branch where it will be false.\n",
    "* In the \"then\" branch, if `#inv_established` is currently 0, then we want to set both policy variables to 1. Add the corresponding conditional statement to construct the body of this branch.\n",
    "* In the \"else\" branch, the instrumentation sets `#inv_true` to 0.\n",
    "\n",
    "As we will see below, there are a few optimizations for this approach that are easy to implement, but this instrumentation is sufficient to establish the desired correspondence. If $\\alpha'$ is the instrumented version of $\\alpha$, then:\n",
    "\n",
    "$$\n",
    "\\alpha~\\text{satisfies the invariant policy for formula}~P\n",
    "\\quad\\Longleftrightarrow\\quad\n",
    "\\vDash [\\alpha'](\\mathtt{\\#inv\\_established} = 1 \\land \\mathtt{\\#inv\\_true} = 1)\n",
    "$$\n",
    "\n",
    "Having this, `symbolic_check` is straightforward to implement"
   ]
  },
  {
   "cell_type": "markdown",
   "id": "b5dad142",
   "metadata": {},
   "source": [
    "### Implementation\n",
    "\n",
    "We will start by writing some utility functions. When we compute the box-free equivalent of $[\\alpha] P$ using `box`, the result will be a Z3 `BoolRef`. But to construct instrumentation, we need the corresponding formula as a `tn.Formula`. The utility `z3_to_fmla` below accomplishes this."
   ]
  },
  {
   "cell_type": "code",
   "execution_count": 15,
   "id": "51f938e0",
   "metadata": {},
   "outputs": [],
   "source": [
    "def z3_to_fmla(P: BoolRef):\n",
    "    \"\"\"\n",
    "    Convert a Z3 BoolRef to a tinyscript formula\n",
    "    \"\"\"\n",
    "    if is_int_value(P):\n",
    "        return tn.Const(P.as_long())\n",
    "    elif is_const(P) and not is_true(P) and not is_false(P):\n",
    "        return tn.Var(str(P))\n",
    "    elif is_add(P):\n",
    "        return tn.Sum(z3_to_fmla(P.children()[0]),\n",
    "                      z3_to_fmla(P.children()[1]))\n",
    "    elif is_sub(P):\n",
    "        return tn.Difference(z3_to_fmla(P.children()[0]),\n",
    "                             z3_to_fmla(P.children()[1]))\n",
    "    elif is_true(P):\n",
    "        return tn.TrueC()\n",
    "    elif is_false(P):\n",
    "        return tn.FalseC()\n",
    "    elif is_lt(P):\n",
    "        return tn.LtF(z3_to_fmla(P.children()[0]), \n",
    "                      z3_to_fmla(P.children()[1]))\n",
    "    elif is_le(P):\n",
    "        return tn.OrF(tn.LtF(z3_to_fmla(P.children()[0]),\n",
    "                             z3_to_fmla(P.children()[1])),\n",
    "                      tn.EqF(z3_to_fmla(P.children()[0]),\n",
    "                             z3_to_fmla(P.children()[1])))\n",
    "    elif is_gt(P):\n",
    "        return tn.NotF(tn.LtF(z3_to_fmla(P.children()[0]), \n",
    "                              z3_to_fmla(P.children()[1])))\n",
    "    elif is_eq(P):\n",
    "        return tn.EqF(z3_to_fmla(P.children()[0]), \n",
    "                      z3_to_fmla(P.children()[1]))\n",
    "    elif is_not(P):\n",
    "        return tn.NotF(z3_to_fmla(P.children()[0]))\n",
    "    elif is_and(P):\n",
    "        return tn.AndF(z3_to_fmla(P.children()[0]),\n",
    "                       z3_to_fmla(P.children()[1]))\n",
    "    elif is_or(P):\n",
    "        return tn.OrF(z3_to_fmla(P.children()[0]),\n",
    "                       z3_to_fmla(P.children()[1]))\n",
    "    elif is_implies(P):\n",
    "        return tn.ImpliesF(z3_to_fmla(P.children()[0]),\n",
    "                           z3_to_fmla(P.children()[1]))\n",
    "    else: \n",
    "        raise TypeError(\n",
    "            f\"Expected BoolRef, got {P}\"\n",
    "        )"
   ]
  },
  {
   "cell_type": "markdown",
   "id": "ce0d3211",
   "metadata": {},
   "source": [
    "We will also be checking formulas for equivalence when adding instrumentation. The utility `fmlas_equiv` does so."
   ]
  },
  {
   "cell_type": "code",
   "execution_count": 16,
   "id": "934d1532",
   "metadata": {},
   "outputs": [],
   "source": [
    "def fmlas_equiv(P: BoolRef, Q: BoolRef) -> bool:\n",
    "    \"\"\"\n",
    "    Test whether P and Q are equivalent, i.e., whether |= P <--> Q\n",
    "    \"\"\"\n",
    "    res, _ = check_sat([Not(P == Q)])\n",
    "    if res == sat or res == unknown:\n",
    "        # If unknown, we conservatively assume that the\n",
    "        # formulas are not equivalent. This will not break\n",
    "        # anything, but merely result in a potentially\n",
    "        # unnecessary instrumentation.\n",
    "        return False\n",
    "    else:\n",
    "        return True"
   ]
  },
  {
   "cell_type": "markdown",
   "id": "85cd3e89",
   "metadata": {},
   "source": [
    "We'll define globals for the policy variables, rather than hard-coding them throughout our implementation."
   ]
  },
  {
   "cell_type": "code",
   "execution_count": 17,
   "id": "085a9253",
   "metadata": {},
   "outputs": [],
   "source": [
    "SETUP_VAR = '#inv_established'\n",
    "INV_VAR = '#inv_true'"
   ]
  },
  {
   "cell_type": "markdown",
   "id": "8ed28c65",
   "metadata": {},
   "source": [
    "Now for the actual instrumentation. The function `invariant_instrument` constructs the instrumentation statements to place before each assignment. It takes a single `BoolRef` argument, which should be the box-free equivalent of $[\\alpha]\\,P$, where $\\alpha$ is the assignment being instrumented. It implements the approach described earlier, except with two optimizations.\n",
    "* If the argument `Q` is the constant `False`, then it means that the invariant will certainly be violated when the assignment is executed. In this case, the instrumentation just sets `#inv_true` to 0.\n",
    "* Similarly, if the argument `Q` is the constant `True`, then the invariant formula `P` will certainly be true after then assignment is executed. In this case, the instrumentation just sets the policy variables to 1 (if appropriate), and does not contain a conditional to test if `Q` is true."
   ]
  },
  {
   "cell_type": "code",
   "execution_count": 18,
   "id": "06b8a028",
   "metadata": {},
   "outputs": [],
   "source": [
    "def invariant_instrument(Q: BoolRef) -> tn.Prog:\n",
    "    \"\"\"\n",
    "    Construct instrumentation to enforce an invariant P,\n",
    "    to be placed immediately before an assignment alpha.\n",
    "    \n",
    "    Args:\n",
    "        Q (z3.BoolRef): A box-free formula that is equivalent\n",
    "            to [alpha] P.\n",
    "    \n",
    "    Returns:\n",
    "        tn.Prog: A tinyscript program that will set the\n",
    "            policy variables appropriately to enforce the\n",
    "            invariant P.\n",
    "    \"\"\"\n",
    "    true_ins = tn.If(tn.EqF(tn.Var(SETUP_VAR), tn.Const(0)),\n",
    "                     tn.Seq(tn.Asgn(INV_VAR, tn.Const(1)),\n",
    "                            tn.Asgn(SETUP_VAR, tn.Const(1))),\n",
    "                     tn.Skip())\n",
    "    false_ins = tn.Asgn(INV_VAR, tn.Const(0))\n",
    "    if is_true(Q):\n",
    "        return true_ins\n",
    "    elif is_false(Q):\n",
    "        return false_ins\n",
    "    else:\n",
    "        return tn.If(z3_to_fmla(Q),\n",
    "                     true_ins,\n",
    "                     false_ins)"
   ]
  },
  {
   "cell_type": "markdown",
   "id": "92d1c617",
   "metadata": {},
   "source": [
    "Putting this all together, we can write `add_instrumentation`, which recurses on the structure of a program to add policy-state maintenance instrumentation before each assignment."
   ]
  },
  {
   "cell_type": "code",
   "execution_count": 19,
   "id": "23988681",
   "metadata": {},
   "outputs": [],
   "source": [
    "def add_instrumentation(alpha: tn.Prog, inv: tn.Formula) -> tn.Prog:\n",
    "    \"\"\"\n",
    "    Construct instrumentation to enforce an invariant P,\n",
    "    to be placed immediately before an assignment alpha.\n",
    "    \n",
    "    Args:\n",
    "        alpha (tn.Prog): The program to instrument\n",
    "        inv (tn.Formula): The invariant formula to enforce\n",
    "    \n",
    "    Returns:\n",
    "        tn.Prog: A tinyscript program with instrumentation before each\n",
    "            assignment.\n",
    "            \n",
    "    Raises:\n",
    "        TypeError: The provided alpha is not a valid tinyscript program.\n",
    "    \"\"\"\n",
    "    match alpha:\n",
    "        # assignments can violate the invariant, so instrument them directly\n",
    "        case tn.Asgn(name, aexp):\n",
    "            pre = box(alpha, fmla_enc(inv))\n",
    "            # pre will be equivalent to inv if and only if the assignment\n",
    "            # has no effect on whether the invariant will be violated or\n",
    "            # established, so we don't add instrumentation if this is\n",
    "            # the case.\n",
    "            if not fmlas_equiv(fmla_enc(inv), pre):\n",
    "                ins = invariant_instrument(pre)\n",
    "                if ins != tn.Skip():\n",
    "                    return tn.Seq(ins, alpha)\n",
    "            return alpha\n",
    "        # composition cannot violate the invariant unless through either\n",
    "        # of its constituents, so recurse and do not add instrumentation directly\n",
    "        case tn.Seq(alpha_p, beta_p):\n",
    "            ins_alpha = add_instrumentation(alpha_p, inv)\n",
    "            ins_beta = add_instrumentation(beta_p, inv)\n",
    "            return tn.Seq(ins_alpha, ins_beta)\n",
    "        # same with conditionals\n",
    "        case tn.If(p, alpha_p, beta_p):\n",
    "            ins_alpha = add_instrumentation(alpha_p, inv)\n",
    "            ins_beta = add_instrumentation(beta_p, inv)\n",
    "            return tn.If(p, ins_alpha, ins_beta)\n",
    "        # same with while loops\n",
    "        case tn.While(q, alpha_p):\n",
    "            ins_alpha = add_instrumentation(alpha_p, inv)\n",
    "            return tn.While(q, ins_alpha)\n",
    "        # skips do nothing for invariants, so no instrumentation\n",
    "        case tn.Skip():\n",
    "            return alpha\n",
    "        case _:\n",
    "            raise TypeError(\n",
    "                f\"instrument got {type(alpha)} ({alpha}), not Prog\"\n",
    "            )\n",
    "\n",
    "def instrument(alpha: tn.Prog, invariant: tn.Formula) -> tn.Prog:\n",
    "    instr = add_instrumentation(alpha, invariant)\n",
    "    initialize = tn.If(invariant,\n",
    "                       tn.Seq(tn.Asgn(SETUP_VAR, tn.Const(1)),\n",
    "                              tn.Asgn(INV_VAR, tn.Const(1))),\n",
    "                       tn.Seq(tn.Asgn(SETUP_VAR, tn.Const(0)),\n",
    "                              tn.Asgn(INV_VAR, tn.Const(0))))\n",
    "    return tn.Seq(initialize, instr)"
   ]
  },
  {
   "cell_type": "markdown",
   "id": "130c0227",
   "metadata": {},
   "source": [
    "Let's test it out"
   ]
  },
  {
   "cell_type": "code",
   "execution_count": 20,
   "id": "480dd451",
   "metadata": {},
   "outputs": [
    {
     "name": "stdout",
     "output_type": "stream",
     "text": [
      "if ((x)<((z)+(1))) then\n",
      "    #inv_established := 1;\n",
      "    #inv_true := 1\n",
      "else\n",
      "    #inv_established := 0;\n",
      "    #inv_true := 0\n",
      "endif;\n",
      "if (!(((z)<(-1))||((z)==(-1)))) then\n",
      "    if ((#inv_established)==(0)) then\n",
      "        #inv_true := 1;\n",
      "        #inv_established := 1\n",
      "    else\n",
      "        skip\n",
      "    endif\n",
      "else\n",
      "    #inv_true := 0\n",
      "endif;\n",
      "x := 0;\n",
      "y := 1;\n",
      "if (!(((2)<(x))||((2)==(x)))) then\n",
      "    if ((#inv_established)==(0)) then\n",
      "        #inv_true := 1;\n",
      "        #inv_established := 1\n",
      "    else\n",
      "        skip\n",
      "    endif\n",
      "else\n",
      "    #inv_true := 0\n",
      "endif;\n",
      "z := 1;\n",
      "i := 0;\n",
      "while ((i)<(n)) do\n",
      "    if (!(((z)<((-1)+(y)))||((z)==((-1)+(y))))) then\n",
      "        if ((#inv_established)==(0)) then\n",
      "            #inv_true := 1;\n",
      "            #inv_established := 1\n",
      "        else\n",
      "            skip\n",
      "        endif\n",
      "    else\n",
      "        #inv_true := 0\n",
      "    endif;\n",
      "    x := y;\n",
      "    y := z;\n",
      "    if (!(((y)<(-1))||((y)==(-1)))) then\n",
      "        if ((#inv_established)==(0)) then\n",
      "            #inv_true := 1;\n",
      "            #inv_established := 1\n",
      "        else\n",
      "            skip\n",
      "        endif\n",
      "    else\n",
      "        #inv_true := 0\n",
      "    endif;\n",
      "    z := (x)+(y);\n",
      "    i := (i)+(1)\n",
      "done\n"
     ]
    }
   ],
   "source": [
    "inv = tn.LtF(tn.Var('x'), tn.Sum(tn.Var('z'), tn.Const(1)))\n",
    "instrumented = instrument(fib, inv)\n",
    "print(stringify(instrumented))"
   ]
  },
  {
   "cell_type": "markdown",
   "id": "e21082ed",
   "metadata": {},
   "source": [
    "Now we implement `symbolic_check`. Note that we pass `depth_exceed_strict=True` to `box`. This means that if the program could potentially run for longer than reflected after `max_depth` times unrolling the loop, then the checker will assume that the invariant could be violated on such a long-running trace.\n",
    "\n",
    "However, the checker will not necessarily return `Result.Violates` if this happens. Rather, if the solver returns `sat`, then `symbolic_check` will attempt to generate an initial state that will lead the program to violate the invariant. If it sees that the invariant is violated in the final state (i.e., `#inv_true` is 0), then it returns `Result.Violates`. Otherwise it returns `Result.Unknown`."
   ]
  },
  {
   "cell_type": "code",
   "execution_count": 21,
   "id": "ee87bce2",
   "metadata": {},
   "outputs": [],
   "source": [
    "from interpreter import exc\n",
    "from symbolic import Result\n",
    "\n",
    "def symbolic_check(alpha: tn.Prog, P: tn.Formula, max_depth=10, timeout=10) -> Result:\n",
    "    alpha_p = instrument(alpha, P)\n",
    "    post = tn.AndF(tn.EqF(tn.Var(SETUP_VAR), tn.Const(1)),\n",
    "                   tn.EqF(tn.Var(INV_VAR), tn.Const(1)))\n",
    "    weakest_pre = box(alpha, fmla_enc(post), max_depth=max_depth, depth_exceed_strict=True)\n",
    "    \n",
    "    res, model = check_sat([Not(weakest_pre)], timeout=timeout)\n",
    "    \n",
    "    if res == unsat:\n",
    "        return Result.Satisfies\n",
    "    elif res == sat:\n",
    "        state = state_from_z3_model(alpha, model, complete=True)\n",
    "        final_state = exc(state, alpha_p, max_steps=1.e6, quiet=False)\n",
    "        if final_state[0].variables[INV_VAR] == 0:\n",
    "            return Result.Violates\n",
    "    return Result.Unknown"
   ]
  },
  {
   "cell_type": "markdown",
   "id": "18ccee76",
   "metadata": {},
   "source": [
    "On our example, we see that the checker isn't able to determine that the invariant will always hold, but it is unable to find a counterexample that concretely demonstrates a violation. It returns unknown."
   ]
  },
  {
   "cell_type": "code",
   "execution_count": 22,
   "id": "ed69d2a9",
   "metadata": {
    "scrolled": true
   },
   "outputs": [
    {
     "data": {
      "text/plain": [
       "<Result.Unknown: 3>"
      ]
     },
     "execution_count": 22,
     "metadata": {},
     "output_type": "execute_result"
    }
   ],
   "source": [
    "symbolic_check(fib, inv)"
   ]
  },
  {
   "cell_type": "markdown",
   "id": "e3384cdf",
   "metadata": {},
   "source": [
    "If we change the invariant to `x <= n`, then we should get a violation."
   ]
  },
  {
   "cell_type": "code",
   "execution_count": 23,
   "id": "d44ca059",
   "metadata": {},
   "outputs": [
    {
     "data": {
      "text/plain": [
       "<Result.Violates: 2>"
      ]
     },
     "execution_count": 23,
     "metadata": {},
     "output_type": "execute_result"
    }
   ],
   "source": [
    "symbolic_check(fib, tn.LtF(tn.Var('x'), tn.Sum(tn.Var('n'), tn.Const(1))), max_depth=15)"
   ]
  },
  {
   "cell_type": "code",
   "execution_count": null,
   "id": "110eaf7c",
   "metadata": {},
   "outputs": [],
   "source": []
  },
  {
   "cell_type": "code",
   "execution_count": null,
   "id": "bcdb44ed",
   "metadata": {},
   "outputs": [],
   "source": []
  }
 ],
 "metadata": {
  "kernelspec": {
   "display_name": "Python 3 (ipykernel)",
   "language": "python",
   "name": "python3"
  },
  "language_info": {
   "codemirror_mode": {
    "name": "ipython",
    "version": 3
   },
   "file_extension": ".py",
   "mimetype": "text/x-python",
   "name": "python",
   "nbconvert_exporter": "python",
   "pygments_lexer": "ipython3",
   "version": "3.10.7"
  }
 },
 "nbformat": 4,
 "nbformat_minor": 5
}
